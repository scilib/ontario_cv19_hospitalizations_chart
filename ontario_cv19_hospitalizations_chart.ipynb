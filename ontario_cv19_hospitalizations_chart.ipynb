{
  "nbformat": 4,
  "nbformat_minor": 0,
  "metadata": {
    "colab": {
      "provenance": []
    },
    "kernelspec": {
      "name": "python3",
      "display_name": "Python 3"
    },
    "language_info": {
      "name": "python"
    }
  },
  "cells": [
    {
      "cell_type": "markdown",
      "source": [
        "Chart hospitalizations from COVID-19 in Ottawa.\n",
        "\n",
        "Richard Akerman\n",
        "\n",
        "December 31, 2021\n",
        "\n",
        "Code developed in Google Colaboratory will be posted to GitHub (scilib) with MIT License."
      ],
      "metadata": {
        "id": "B4LT7nFB-_CY"
      }
    },
    {
      "cell_type": "markdown",
      "source": [
        "Code uses examples and techniques from:\n",
        "\n",
        "*   Data to Fish - [How to Select Rows from Pandas DataFrame](https://datatofish.com/select-rows-pandas-dataframe/)\n",
        "*   [matplotlib.pyplot.bar](https://matplotlib.org/stable/api/_as_gen/matplotlib.pyplot.bar.html)\n",
        "*   Stack Overflow - Python - [Get list from pandas dataframe column or row?](https://stackoverflow.com/questions/22341271/get-list-from-pandas-dataframe-column-or-row)\n",
        "*   tutorialspoint - [Matplotlib - Bar Plot](https://www.tutorialspoint.com/matplotlib/matplotlib_bar_plot.htm)\n",
        "*   Geeks for Geeks - [Plotting multiple bar charts using Matplotlib in Python](https://www.geeksforgeeks.org/plotting-multiple-bar-charts-using-matplotlib-in-python/)\n",
        "*Geeks for Geeks - [Matplotlib.pyplot.colors() in Python](https://www.geeksforgeeks.org/matplotlib-pyplot-colors-in-python/)\n",
        "*   Google - [Charting in Colaboratory](https://colab.research.google.com/notebooks/charts.ipynb)\n",
        "*   towards data science (subscription) - [Pretty displaying tricks for columnar data in Python](https://towardsdatascience.com/pretty-displaying-tricks-for-columnar-data-in-python-2fe3b3ed9b83)\n",
        "*  DelftStack - [Hide Axis Text Ticks and/or Tick Labels in Matplotlib](https://www.delftstack.com/howto/matplotlib/how-to-hide-axis-text-ticks-and-or-tick-labels-in-matplotlib/)"
      ],
      "metadata": {
        "id": "Q9UHxLYl_SmL"
      }
    },
    {
      "cell_type": "markdown",
      "source": [
        "Data from Ontario open data - [COVID-19 cases in hospital and ICU, by Ontario Health (OH) region](https://data.ontario.ca/en/dataset/covid-19-cases-in-hospital-and-icu-by-ontario-health-region)\n",
        "\n",
        "This is rows labeled by region, EAST is the one this code uses.\n",
        "\n",
        "Verified that East is the correct region for Ottawa, see e.g. [Ontario Public Health Units and Health Unit Regions](https://www.researchgate.net/figure/Ontario-public-health-units-and-health-unit-regions_fig1_322667994)\n",
        "\n",
        "Note that what is plotted for ICU is cases that are currently testing positive for COVID-19, not total cases, due to some historical issues with the dataset."
      ],
      "metadata": {
        "id": "MhkGY8JgDcAV"
      }
    },
    {
      "cell_type": "markdown",
      "source": [
        "TODO: Label chart with dates"
      ],
      "metadata": {
        "id": "WrRmtFiLAvko"
      }
    },
    {
      "cell_type": "markdown",
      "source": [
        "Caveats: Will break if data URL changes or if data format changes."
      ],
      "metadata": {
        "id": "Wit3WVDtAfjk"
      }
    },
    {
      "cell_type": "markdown",
      "source": [
        "September 28, 2023\n",
        "\n",
        "It looks like data.ontario.ca is now checking the user agent in the header, and does not like seeing the default Python-urllib that Colab is probably sending.\n",
        "\n",
        "Have to change the code to send a fake web browser user agent and accompanying Accept text.\n",
        "\n",
        "Basic concept from\n",
        "\n",
        "[Set User Agent On Pandas Read_Csv](https://waylonwalker.com/pandas-read-csv-user-agent/) by Waylon Walker from Learning in Public @_WaylonWalker\n",
        "\n",
        "Specific URL request header from\n",
        "\n",
        "StackOverflow - [urllib2.HTTPError: HTTP Error 403: Forbidden](https://stackoverflow.com/questions/13303449/urllib2-httperror-http-error-403-forbidden)\n",
        "\n",
        "As the table now has missing values (NaN = Not a Number), I added code for the table to replace nan with a \"-\".\n",
        "\n",
        "StackOverflow - [Properly handling missing values and formatting for pandas data frame printed to tabulate](https://stackoverflow.com/questions/71165558/properly-handling-missing-values-and-formatting-for-pandas-data-frame-printed-to)"
      ],
      "metadata": {
        "id": "XcnC710AjK2r"
      }
    },
    {
      "cell_type": "code",
      "execution_count": null,
      "metadata": {
        "colab": {
          "base_uri": "https://localhost:8080/",
          "height": 1000
        },
        "id": "tRFwMkjMGhzq",
        "outputId": "404c0eac-f593-4f40-ad86-4035d2d64d3d"
      },
      "outputs": [
        {
          "output_type": "stream",
          "name": "stdout",
          "text": [
            "Line number, Date,\n",
            "Hos = Hospitalizations\n",
            "IC = ICU current COVID-19\n",
            "IV = ICU current COVID-19 on ventilator\n",
            "- means Not a Number (a blank entry)\n",
            "\n",
            "\n",
            "line  YYYY-MM-DD  Hos  IC  IV\n",
            "----  ----------  ---  --  -\n",
            "2497  2023-08-08   37   3  1\n",
            "2498  2023-08-09   47   2  1\n",
            "2499  2023-08-10   55   2  1\n",
            "2500  2023-08-11   58   2  1\n",
            "2501  2023-08-12   53   4  2\n",
            "2502  2023-08-13   72   3  1\n",
            "2503  2023-08-14   77   3  1\n",
            "2504  2023-08-15   92   4  1\n",
            "2505  2023-08-16   99   5  1\n",
            "2506  2023-08-17   94   5  1\n",
            "2507  2023-08-18   89   8  1\n",
            "2508  2023-08-19   91   9  1\n",
            "2509  2023-08-20  118   7  1\n",
            "2510  2023-08-21   63   6  1\n",
            "2511  2023-08-22  117   4  0\n",
            "2512  2023-08-23  108   6  0\n",
            "2513  2023-08-24  154   6  1\n",
            "2514  2023-08-25  138   3  1\n",
            "2515  2023-08-26  142   3  2\n",
            "2516  2023-08-27  153   2  0\n",
            "2517  2023-08-28  146   3  1\n",
            "2518  2023-08-29  141   6  2\n",
            "2519  2023-08-30  138   4  1\n",
            "2520  2023-08-31  133   5  1\n",
            "2521  2023-09-01  145   8  1\n",
            "2522  2023-09-02  135   8  1\n",
            "2523  2023-09-03  137   6  0\n",
            "2524  2023-09-04  144   5  0\n",
            "2525  2023-09-05  128   4  0\n",
            "2526  2023-09-06  139   7  1\n",
            "2527  2023-09-07  133   8  1\n",
            "2528  2023-09-08  140   9  1\n",
            "2529  2023-09-09  153   -  -\n",
            "2530  2023-09-10  161   -  -\n",
            "2531  2023-09-11  157   -  -\n",
            "2532  2023-09-12  155   -  -\n",
            "2533  2023-09-13  161   -  -\n",
            "2534  2023-09-14  163   5  1\n",
            "2535  2023-09-15  146   5  2\n",
            "2536  2023-09-16  180   5  2\n",
            "2537  2023-09-17  175   7  1\n",
            "2538  2023-09-18  165   7  1\n",
            "2539  2023-09-19  176   9  0\n",
            "2540  2023-09-20  178  11  1\n",
            "2541  2023-09-21  234   -  -\n",
            "2542  2023-09-22  164  12  2\n",
            "2543  2023-09-23  167  13  5\n",
            "2544  2023-09-24  190  18  6\n",
            "2545  2023-09-25  193  21  5\n",
            "----  ----------  ---  --  -\n",
            "\n",
            "\n"
          ]
        },
        {
          "output_type": "display_data",
          "data": {
            "text/plain": [
              "<Figure size 640x480 with 1 Axes>"
            ],
            "image/png": "[encoded data removed]"
          },
          "metadata": {}
        }
      ],
      "source": [
        "import matplotlib.pyplot as plt\n",
        "import pandas as pd\n",
        "import numpy as np\n",
        "\n",
        "from tabulate import tabulate\n",
        "\n",
        "hospitalizations_url = \"https://data.ontario.ca/dataset/8f3a449b-bde5-4631-ada6-8bd94dbc7d15/resource/e760480e-1f95-4634-a923-98161cfb02fa/download/region_hospital_icu_covid_data.csv\"\n",
        "# hospitalizations_data = pd.read_csv(hospitalizations_url)\n",
        "url_request_header = {'User-Agent': 'Mozilla/5.0 (X11; Linux x86_64) AppleWebKit/537.11 (KHTML, like Gecko) Chrome/23.0.1271.64 Safari/537.11',\n",
        "       'Accept': 'text/html,application/xhtml+xml,application/xml;q=0.9,*/*;q=0.8',\n",
        "       'Accept-Charset': 'ISO-8859-1,utf-8;q=0.7,*;q=0.3',\n",
        "       'Accept-Encoding': 'none',\n",
        "       'Accept-Language': 'en-US,en;q=0.8',\n",
        "       'Connection': 'keep-alive'}\n",
        "hospitalizations_data = pd.read_csv( hospitalizations_url , storage_options = url_request_header )\n",
        "\n",
        "# extract most recent number_of_items days of hospitalizations\n",
        "# Ottawa is Ontario Health region EAST\n",
        "\n",
        "desired_row = \"EAST\"\n",
        "hospital_column = \"hospitalizations\"\n",
        "hospital_label = 'hospital'\n",
        "icu_column = \"icu_current_covid\"\n",
        "icu_label = 'ICU'\n",
        "ventilator_column = 'icu_current_covid_vented'\n",
        "ventilator_label = 'ventilator'\n",
        "number_of_items = 49\n",
        "offset_width = 0.25\n",
        "\n",
        "# extract only the rows matching desired_row (EAST)\n",
        "selected_hospital_rows = hospitalizations_data.loc[hospitalizations_data['oh_region'] == desired_row]\n",
        "\n",
        "# make a table\n",
        "# using tabulate because otherwise it is wrapping the rows for some reason\n",
        "print(\"Line number, Date,\")\n",
        "print(\"Hos = Hospitalizations\")\n",
        "print(\"IC = ICU current COVID-19\")\n",
        "print(\"IV = ICU current COVID-19 on ventilator\")\n",
        "print(\"- means Not a Number (a blank entry)\")\n",
        "print(\"\\n\")\n",
        "print(\"line  YYYY-MM-DD  Hos  IC  IV\")\n",
        "print(tabulate(selected_hospital_rows[['date', hospital_column, icu_column, ventilator_column]].tail(number_of_items).replace(np.nan, None), missingval='-'))\n",
        "print(\"\\n\")\n",
        "\n",
        "# make a chart\n",
        "r = np.arange(number_of_items) # just a set of index values for the plot\n",
        "\n",
        "plt.bar( r , list(selected_hospital_rows[hospital_column].tail(number_of_items)), color ='b' , label = hospital_label, width = offset_width)\n",
        "plt.bar( r + offset_width, list(selected_hospital_rows[icu_column].tail(number_of_items)), color ='y', label = icu_label, width = offset_width)\n",
        "plt.bar( r + offset_width + offset_width, list(selected_hospital_rows[ventilator_column].tail(number_of_items)), color ='r', label = ventilator_label, width = offset_width)\n",
        "\n",
        "plt.plot()\n",
        "\n",
        "plt.ylabel(\"Number of patients\")\n",
        "plt.title(\"Ontario Health Region EAST (Ottawa area)\")\n",
        "plt.legend(loc=\"upper left\")\n",
        "\n",
        "# hide meaningless x-axis\n",
        "ax = plt.gca()\n",
        "ax.axes.xaxis.set_visible(False)\n",
        "\n",
        "plt.show()"
      ]
    },
    {
      "cell_type": "code",
      "source": [],
      "metadata": {
        "id": "q3nOdYghjM05"
      },
      "execution_count": null,
      "outputs": []
    }
  ]
}