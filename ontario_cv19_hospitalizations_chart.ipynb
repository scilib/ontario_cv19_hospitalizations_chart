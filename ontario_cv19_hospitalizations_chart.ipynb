{
  "nbformat": 4,
  "nbformat_minor": 0,
  "metadata": {
    "colab": {
      "name": "ontario_cv19_hospitalizations_chart with tabulate.ipynb",
      "provenance": [],
      "collapsed_sections": []
    },
    "kernelspec": {
      "name": "python3",
      "display_name": "Python 3"
    },
    "language_info": {
      "name": "python"
    }
  },
  "cells": [
    {
      "cell_type": "markdown",
      "source": [
        "Chart hospitalizations from COVID-19 in Ottawa.\n",
        "\n",
        "Richard Akerman\n",
        "\n",
        "December 31, 2021\n",
        "\n",
        "Code developed in Google Colaboratory will be posted to GitHub (scilib) with MIT License."
      ],
      "metadata": {
        "id": "B4LT7nFB-_CY"
      }
    },
    {
      "cell_type": "markdown",
      "source": [
        "Code uses examples and techniques from:\n",
        "\n",
        "*   Data to Fish - [How to Select Rows from Pandas DataFrame](https://datatofish.com/select-rows-pandas-dataframe/)\n",
        "*   [matplotlib.pyplot.bar](https://matplotlib.org/stable/api/_as_gen/matplotlib.pyplot.bar.html)\n",
        "*   Stack Overflow - Python - [Get list from pandas dataframe column or row?](https://stackoverflow.com/questions/22341271/get-list-from-pandas-dataframe-column-or-row)\n",
        "*   tutorialspoint - [Matplotlib - Bar Plot](https://www.tutorialspoint.com/matplotlib/matplotlib_bar_plot.htm)\n",
        "*   Geeks for Geeks - [Plotting multiple bar charts using Matplotlib in Python](https://www.geeksforgeeks.org/plotting-multiple-bar-charts-using-matplotlib-in-python/)\n",
        "*Geeks for Geeks - [Matplotlib.pyplot.colors() in Python](https://www.geeksforgeeks.org/matplotlib-pyplot-colors-in-python/)\n",
        "*   Google - [Charting in Colaboratory](https://colab.research.google.com/notebooks/charts.ipynb)\n",
        "*   towards data science (subscription) - [Pretty displaying tricks for columnar data in Python](https://towardsdatascience.com/pretty-displaying-tricks-for-columnar-data-in-python-2fe3b3ed9b83)"
      ],
      "metadata": {
        "id": "Q9UHxLYl_SmL"
      }
    },
    {
      "cell_type": "markdown",
      "source": [
        "Data from Ontario open data - [lCOVID-19 cases in hospital and ICU, by Ontario Health (OH) region](https://data.ontario.ca/en/dataset/covid-19-cases-in-hospital-and-icu-by-ontario-health-region)\n",
        "\n",
        "This is rows labeled by region, EAST is the one this code uses.\n",
        "\n",
        "Verified that East is the correct region for Ottawa, see e.g. [Ontario Public Health Units and Health Unit Regions](https://www.researchgate.net/figure/Ontario-public-health-units-and-health-unit-regions_fig1_322667994)\n",
        "\n",
        "Note that what is plotted for ICU is cases that are currently testing positive for COVID-19, not total cases, due to some historical issues with the dataset."
      ],
      "metadata": {
        "id": "MhkGY8JgDcAV"
      }
    },
    {
      "cell_type": "markdown",
      "source": [
        "TODO: Label chart with dates"
      ],
      "metadata": {
        "id": "WrRmtFiLAvko"
      }
    },
    {
      "cell_type": "markdown",
      "source": [
        "Caveats: Will break if data URL changes or if data format changes."
      ],
      "metadata": {
        "id": "Wit3WVDtAfjk"
      }
    },
    {
      "cell_type": "code",
      "execution_count": 1,
      "metadata": {
        "colab": {
          "base_uri": "https://localhost:8080/",
          "height": 715
        },
        "id": "tRFwMkjMGhzq",
        "outputId": "92644a6a-f155-4afb-e74c-3c08f2dce1c8"
      },
      "outputs": [
        {
          "output_type": "stream",
          "name": "stdout",
          "text": [
            "Line number, Date\n",
            "Hos = Hospitalizations\n",
            "IC = ICU current COVID-19\n",
            "IV = ICU current COVID-19 on ventilator\n",
            "\n",
            "\n",
            "line  YYYY-MM-DD  Hos  IC  IV\n",
            "----  ----------  ---  --  --\n",
            "1454  2022-03-24  137  34  16\n",
            "1455  2022-03-25  136  36  19\n",
            "1456  2022-03-26  131  34  20\n",
            "1457  2022-03-27  114  33  23\n",
            "1458  2022-03-28  143  33  22\n",
            "1459  2022-03-29  148  36  18\n",
            "1460  2022-03-30  151  34  20\n",
            "1461  2022-03-31  167  34  18\n",
            "1462  2022-04-01  181  33  19\n",
            "1463  2022-04-02  160  31  20\n",
            "1464  2022-04-03  183  31  20\n",
            "1465  2022-04-04  207  33  20\n",
            "1466  2022-04-05  265  33  21\n",
            "1467  2022-04-06  255  32  15\n",
            "----  ----------  ---  --  --\n",
            "\n",
            "\n"
          ]
        },
        {
          "output_type": "display_data",
          "data": {
            "text/plain": [
              "<Figure size 432x288 with 1 Axes>"
            ],
            "image/png": "[encoded data removed]"
          },
          "metadata": {
            "needs_background": "light"
          }
        }
      ],
      "source": [
        "import matplotlib.pyplot as plt\n",
        "import pandas as pd\n",
        "import numpy as np\n",
        "\n",
        "from tabulate import tabulate\n",
        "\n",
        "hospitalizations_url = \"https://data.ontario.ca/dataset/8f3a449b-bde5-4631-ada6-8bd94dbc7d15/resource/e760480e-1f95-4634-a923-98161cfb02fa/download/region_hospital_icu_covid_data.csv\"\n",
        "hospitalizations_data = pd.read_csv(hospitalizations_url)\n",
        "\n",
        "# extract most recent number_of_items days of hospitalizations\n",
        "# Ottawa is Ontario Health region EAST\n",
        "\n",
        "desired_row = \"EAST\"\n",
        "hospital_column = \"hospitalizations\"\n",
        "hospital_label = 'hospital'\n",
        "icu_column = \"icu_current_covid\"\n",
        "icu_label = 'ICU'\n",
        "ventilator_column = 'icu_current_covid_vented'\n",
        "ventilator_label = 'ventilator'\n",
        "number_of_items = 14\n",
        "offset_width = 0.25\n",
        "\n",
        "# extract only the rows matching desired_row (EAST)\n",
        "selected_hospital_rows = hospitalizations_data.loc[hospitalizations_data['oh_region'] == desired_row]\n",
        "\n",
        "# make a table\n",
        "# using tabulate because otherwise it is wrapping the rows for some reason\n",
        "print(\"Line number, Date\")\n",
        "print(\"Hos = Hospitalizations\")\n",
        "print(\"IC = ICU current COVID-19\")\n",
        "print(\"IV = ICU current COVID-19 on ventilator\")\n",
        "print(\"\\n\")\n",
        "print(\"line  YYYY-MM-DD  Hos  IC  IV\")\n",
        "print(tabulate(selected_hospital_rows[['date', hospital_column, icu_column, ventilator_column]].tail(number_of_items)))\n",
        "print(\"\\n\")\n",
        "\n",
        "# make a chart\n",
        "r = np.arange(number_of_items) # just a set of index values for the plot\n",
        "\n",
        "plt.bar( r , list(selected_hospital_rows[hospital_column].tail(number_of_items)), color ='b' , label = hospital_label, width = offset_width)\n",
        "plt.bar( r + offset_width, list(selected_hospital_rows[icu_column].tail(number_of_items)), color ='y', label = icu_label, width = offset_width)\n",
        "plt.bar( r + offset_width + offset_width, list(selected_hospital_rows[ventilator_column].tail(number_of_items)), color ='r', label = ventilator_label, width = offset_width)\n",
        "\n",
        "plt.plot()\n",
        "\n",
        "plt.ylabel(\"Number of patients\")\n",
        "plt.title(\"Ontario Health Region EAST (Ottawa area)\")\n",
        "plt.legend(loc=\"upper left\")\n",
        "plt.show()"
      ]
    }
  ]
}