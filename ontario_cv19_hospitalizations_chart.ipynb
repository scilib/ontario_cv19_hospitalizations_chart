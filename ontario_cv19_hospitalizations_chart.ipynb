{
  "nbformat": 4,
  "nbformat_minor": 0,
  "metadata": {
    "colab": {
      "name": "ontario_cv19_hospitalizations_chart.ipynb",
      "provenance": [],
      "collapsed_sections": []
    },
    "kernelspec": {
      "name": "python3",
      "display_name": "Python 3"
    },
    "language_info": {
      "name": "python"
    }
  },
  "cells": [
    {
      "cell_type": "markdown",
      "source": [
        "Chart hospitalizations from COVID-19 in Ottawa.\n",
        "\n",
        "Richard Akerman\n",
        "\n",
        "December 31, 2021\n",
        "\n",
        "Code developed in Google Colaboratory will be posted to GitHub (scilib) with MIT License."
      ],
      "metadata": {
        "id": "B4LT7nFB-_CY"
      }
    },
    {
      "cell_type": "markdown",
      "source": [
        "Code uses examples and techniques from:\n",
        "\n",
        "*   Data to Fish - [How to Select Rows from Pandas DataFrame](https://datatofish.com/select-rows-pandas-dataframe/)\n",
        "*   [matplotlib.pyplot.bar](https://matplotlib.org/stable/api/_as_gen/matplotlib.pyplot.bar.html)\n",
        "*   Stack Overflow - Python - [Get list from pandas dataframe column or row?](https://stackoverflow.com/questions/22341271/get-list-from-pandas-dataframe-column-or-row)\n",
        "*   tutorialspoint - [Matplotlib - Bar Plot](https://www.tutorialspoint.com/matplotlib/matplotlib_bar_plot.htm)\n",
        "*   Geeks for Geeks - [Plotting multiple bar charts using Matplotlib in Python](https://www.geeksforgeeks.org/plotting-multiple-bar-charts-using-matplotlib-in-python/)\n",
        "*Geeks for Geeks - [Matplotlib.pyplot.colors() in Python](https://www.geeksforgeeks.org/matplotlib-pyplot-colors-in-python/)\n",
        "*   Google - [Charting in Colaboratory](https://colab.research.google.com/notebooks/charts.ipynb)"
      ],
      "metadata": {
        "id": "Q9UHxLYl_SmL"
      }
    },
    {
      "cell_type": "markdown",
      "source": [
        "Data from Ontario open data - [lCOVID-19 cases in hospital and ICU, by Ontario Health (OH) region](https://data.ontario.ca/en/dataset/covid-19-cases-in-hospital-and-icu-by-ontario-health-region)\n",
        "\n",
        "This is rows labeled by region, EAST is the one this code uses.\n",
        "\n",
        "Verified that East is the correct region for Ottawa, see e.g. [Ontario Public Health Units and Health Unit Regions](https://www.researchgate.net/figure/Ontario-public-health-units-and-health-unit-regions_fig1_322667994)\n",
        "\n",
        "Note that what is plotted for ICU is cases that are currently testing positive for COVID-19, not total cases, due to some historical issues with the dataset."
      ],
      "metadata": {
        "id": "MhkGY8JgDcAV"
      }
    },
    {
      "cell_type": "markdown",
      "source": [
        "TODO: Label chart with dates"
      ],
      "metadata": {
        "id": "WrRmtFiLAvko"
      }
    },
    {
      "cell_type": "markdown",
      "source": [
        "Caveats: Will break if data URL changes or if data format changes."
      ],
      "metadata": {
        "id": "Wit3WVDtAfjk"
      }
    },
    {
      "cell_type": "code",
      "execution_count": 2,
      "metadata": {
        "colab": {
          "base_uri": "https://localhost:8080/",
          "height": 576
        },
        "id": "tRFwMkjMGhzq",
        "outputId": "7e5de3c1-868b-4092-8fae-48d55f1f5d17"
      },
      "outputs": [
        {
          "output_type": "stream",
          "name": "stdout",
          "text": [
            "            date  hospitalizations  icu_current_covid  icu_current_covid_vented\n",
            "1262  2021-12-18                82                 27                        20\n",
            "1263  2021-12-19                67                 29                        23\n",
            "1264  2021-12-20                67                 29                        23\n",
            "1265  2021-12-21                77                 30                        23\n",
            "1266  2021-12-22                74                 31                        23\n",
            "1267  2021-12-23                83                 32                        20\n",
            "1268  2021-12-24                88                 29                        18\n",
            "1269  2021-12-25                82                 27                        14\n",
            "1270  2021-12-26                94                 26                        14\n",
            "1271  2021-12-27               107                 27                        16\n",
            "1272  2021-12-28               144                 31                        15\n",
            "1273  2021-12-29               154                 30                        13\n",
            "1274  2021-12-30               179                 37                        15\n",
            "1275  2021-12-31               178                 42                        14\n",
            "\n",
            "\n"
          ]
        },
        {
          "output_type": "display_data",
          "data": {
            "image/png": "[encoded data removed]",
            "text/plain": [
              "<Figure size 432x288 with 1 Axes>"
            ]
          },
          "metadata": {
            "needs_background": "light"
          }
        }
      ],
      "source": [
        "import matplotlib.pyplot as plt\n",
        "import pandas as pd\n",
        "import numpy as np\n",
        "\n",
        "hospitalizations_url = \"https://data.ontario.ca/dataset/8f3a449b-bde5-4631-ada6-8bd94dbc7d15/resource/e760480e-1f95-4634-a923-98161cfb02fa/download/region_hospital_icu_covid_data.csv\"\n",
        "hospitalizations_data = pd.read_csv(hospitalizations_url)\n",
        "\n",
        "# extract most recent number_of_items days of hospitalizations\n",
        "# Ottawa is Ontario Health region EAST\n",
        "\n",
        "desired_row = \"EAST\"\n",
        "hospital_column = \"hospitalizations\"\n",
        "hospital_label = 'hospital'\n",
        "icu_column = \"icu_current_covid\"\n",
        "icu_label = 'ICU'\n",
        "ventilator_column = 'icu_current_covid_vented'\n",
        "ventilator_label = 'ventilator'\n",
        "number_of_items = 14\n",
        "offset_width = 0.25\n",
        "\n",
        "# extract only the rows matching desired_row (EAST)\n",
        "selected_hospital_rows = hospitalizations_data.loc[hospitalizations_data['oh_region'] == desired_row]\n",
        "\n",
        "# make a table\n",
        "print(selected_hospital_rows[['date', hospital_column, icu_column, ventilator_column]].tail(number_of_items))\n",
        "print(\"\\n\")\n",
        "\n",
        "# make a chart\n",
        "r = np.arange(number_of_items) # just a set of index values for the plot\n",
        "\n",
        "plt.bar( r , list(selected_hospital_rows[hospital_column].tail(number_of_items)), color ='b' , label = hospital_label, width = offset_width)\n",
        "plt.bar( r + offset_width, list(selected_hospital_rows[icu_column].tail(number_of_items)), color ='y', label = icu_label, width = offset_width)\n",
        "plt.bar( r + offset_width + offset_width, list(selected_hospital_rows[ventilator_column].tail(number_of_items)), color ='r', label = ventilator_label, width = offset_width)\n",
        "\n",
        "plt.plot()\n",
        "\n",
        "plt.ylabel(\"Number of patients\")\n",
        "plt.title(\"Ontario Health Region EAST (Ottawa)\")\n",
        "plt.legend()\n",
        "plt.show()"
      ]
    }
  ]
}